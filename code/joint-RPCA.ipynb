{
 "cells": [
  {
   "cell_type": "markdown",
   "metadata": {},
   "source": [
    "### joint-RPCA"
   ]
  },
  {
   "cell_type": "code",
   "execution_count": null,
   "metadata": {},
   "outputs": [],
   "source": [
    "biom convert \\\n",
    " -i jrpca_mtb_feattab.txt \\\n",
    " -o jrpca_mtb_feattab.biom \\\n",
    " --table-type=\"OTU table\" \\\n",
    " --to-hdf5\n",
    "\n",
    "qiime tools import \\\n",
    " --input-path jrpca_mtb_feattab.biom \\\n",
    " --output-path jrpca_mtb_feattab.qza \\\n",
    " --type FeatureTable[Frequency]\n",
    "\n",
    "biom convert \\\n",
    " -i jrpca_16s_feattab.txt \\\n",
    " -o jrpca_16s_feattab.biom \\\n",
    " --table-type=\"OTU table\" \\\n",
    " --to-hdf5\n",
    "\n",
    "qiime tools import \\\n",
    " --input-path jrpca_16s_feattab.biom \\\n",
    " --output-path jrpca_16s_feattab.qza \\\n",
    " --type FeatureTable[Frequency]\n"
   ]
  },
  {
   "cell_type": "code",
   "execution_count": null,
   "metadata": {},
   "outputs": [],
   "source": [
    "qiime gemelli joint-rpca \\\n",
    "    --i-tables jrpca_mtb_feattab.qza jrpca_16s_feattab.qza \\\n",
    "    --m-sample-metadata-file /mnt/zarrinpar/scratch/sfloresr/NASH_KF/multiomics_16smtb/jrpca_metadata.txt \\\n",
    "    --p-train-test-column  'traintest' \\\n",
    "    --p-max-iterations 25 \\\n",
    "    --p-min-feature-frequency 5 \\\n",
    "    --o-biplot /mnt/zarrinpar/scratch/sfloresr/NASH_KF/multiomics_16smtb/result_all/joint_biplot.qza\\\n",
    "    --o-distance-matrix /mnt/zarrinpar/scratch/sfloresr/NASH_KF/multiomics_16smtb/result_all/joint_distance_matrix.qza\\\n",
    "    --o-cross-validation-error /mnt/zarrinpar/scratch/sfloresr/NASH_KF/multiomics_16smtb/result_all/cross_validation_error.qza\n"
   ]
  },
  {
   "cell_type": "code",
   "execution_count": null,
   "metadata": {},
   "outputs": [],
   "source": [
    "qiime longitudinal volatility \\\n",
    "    --m-metadata-file /mnt/zarrinpar/scratch/sfloresr/NASH_KF/multiomics_16smtb/result_all/cross_validation_error.qza \\\n",
    "    --p-state-column 'iteration' \\\n",
    "    --o-visualization /mnt/zarrinpar/scratch/sfloresr/NASH_KF/multiomics_16smtb/result_all/volatility_plot.qzv"
   ]
  },
  {
   "cell_type": "code",
   "execution_count": null,
   "metadata": {},
   "outputs": [],
   "source": [
    "qiime emperor biplot \\\n",
    "    --i-biplot /mnt/zarrinpar/scratch/sfloresr/NASH_KF/multiomics_16smtb/result_all/joint_biplot.qza \\\n",
    "    --m-sample-metadata-file /mnt/zarrinpar/scratch/sfloresr/NASH_KF/multiomics_16smtb/jrpca_metadata.txt \\\n",
    "    --p-number-of-features 25 \\\n",
    "    --o-visualization /mnt/zarrinpar/scratch/sfloresr/NASH_KF/multiomics_16smtb/result_all/emperor-biplot.qzv"
   ]
  },
  {
   "cell_type": "code",
   "execution_count": null,
   "metadata": {},
   "outputs": [],
   "source": [
    "qiime diversity beta-group-significance \\\n",
    "    --i-distance-matrix /mnt/zarrinpar/scratch/sfloresr/NASH_KF/multiomics_16smtb/result_all/joint_distance_matrix.qza\\\n",
    "    --m-metadata-file /mnt/zarrinpar/scratch/sfloresr/NASH_KF/multiomics_16smtb/jrpca_metadata.txt\\\n",
    "    --m-metadata-column 'condition'\\\n",
    "    --p-pairwise \\\n",
    "    --o-visualization /mnt/zarrinpar/scratch/sfloresr/NASH_KF/multiomics_16smtb/result_all/permanova-cond.qzv\n",
    "\n",
    "qiime diversity beta-group-significance \\\n",
    "    --i-distance-matrix /mnt/zarrinpar/scratch/sfloresr/NASH_KF/multiomics_16smtb/result_all/joint_distance_matrix.qza\\\n",
    "    --m-metadata-file /mnt/zarrinpar/scratch/sfloresr/NASH_KF/multiomics_16smtb/jrpca_metadata.txt\\\n",
    "    --m-metadata-column 'NASH_category'\\\n",
    "    --p-pairwise \\\n",
    "    --o-visualization /mnt/zarrinpar/scratch/sfloresr/NASH_KF/multiomics_16smtb/result_all/permanova-nash.qzv\n",
    "\n",
    "qiime diversity beta-group-significance \\\n",
    "    --i-distance-matrix /mnt/zarrinpar/scratch/sfloresr/NASH_KF/multiomics_16smtb/result_all/joint_distance_matrix.qza\\\n",
    "    --m-metadata-file /mnt/zarrinpar/scratch/sfloresr/NASH_KF/multiomics_16smtb/jrpca_metadata.txt\\\n",
    "    --m-metadata-column 'steatosis_grade_new'\\\n",
    "    --p-pairwise \\\n",
    "    --o-visualization /mnt/zarrinpar/scratch/sfloresr/NASH_KF/multiomics_16smtb/result_all/permanova-steatosis.qzv\n",
    "\n",
    "qiime diversity beta-group-significance \\\n",
    "    --i-distance-matrix /mnt/zarrinpar/scratch/sfloresr/NASH_KF/multiomics_16smtb/result_all/joint_distance_matrix.qza\\\n",
    "    --m-metadata-file /mnt/zarrinpar/scratch/sfloresr/NASH_KF/multiomics_16smtb/jrpca_metadata.txt\\\n",
    "    --m-metadata-column 'fibrosis_stage_new'\\\n",
    "    --p-pairwise \\\n",
    "    --o-visualization /mnt/zarrinpar/scratch/sfloresr/NASH_KF/multiomics_16smtb/result_all/permanova-fibrosis.qzv\n",
    "\n",
    "qiime diversity beta-group-significance \\\n",
    "    --i-distance-matrix /mnt/zarrinpar/scratch/sfloresr/NASH_KF/multiomics_16smtb/result_all/joint_distance_matrix.qza\\\n",
    "    --m-metadata-file /mnt/zarrinpar/scratch/sfloresr/NASH_KF/multiomics_16smtb/jrpca_metadata.txt\\\n",
    "    --m-metadata-column 'collection_timepoint'\\\n",
    "    --p-pairwise \\\n",
    "    --o-visualization /mnt/zarrinpar/scratch/sfloresr/NASH_KF/multiomics_16smtb/result_all/permanova-ZT.qzv\n",
    "\n",
    "qiime diversity beta-group-significance \\\n",
    "    --i-distance-matrix /mnt/zarrinpar/scratch/sfloresr/NASH_KF/multiomics_16smtb/result_all/joint_distance_matrix.qza\\\n",
    "    --m-metadata-file /mnt/zarrinpar/scratch/sfloresr/NASH_KF/multiomics_16smtb/jrpca_metadata.txt\\\n",
    "    --m-metadata-column 'cond_NASH'\\\n",
    "    --p-pairwise \\\n",
    "    --o-visualization /mnt/zarrinpar/scratch/sfloresr/NASH_KF/multiomics_16smtb/result_all/permanova-condNASH.qzv"
   ]
  },
  {
   "cell_type": "code",
   "execution_count": null,
   "metadata": {},
   "outputs": [],
   "source": [
    "!qiime gemelli filter-ordination \\\n",
    "    --i-ordination /mnt/zarrinpar/scratch/sfloresr/NASH_KF/multiomics_16smtb/result_all/joint_biplot.qza \\\n",
    "    --i-table /mnt/zarrinpar/scratch/sfloresr/NASH_KF/multiomics_16smtb/jrpca_mtb_feattab.qza \\\n",
    "    --o-subset-biplot /mnt/zarrinpar/scratch/sfloresr/NASH_KF/multiomics_16smtb/result_all/ordination-mtb.qza\n",
    "\n",
    "!qiime gemelli filter-ordination \\\n",
    "    --i-ordination /mnt/zarrinpar/scratch/sfloresr/NASH_KF/multiomics_16smtb/result_all/joint_biplot.qza \\\n",
    "    --i-table /mnt/zarrinpar/scratch/sfloresr/NASH_KF/multiomics_16smtb/jrpca_16s_feattab.qza \\\n",
    "    --o-subset-biplot /mnt/zarrinpar/scratch/sfloresr/NASH_KF/multiomics_16smtb/result_all/ordination-16s.qza"
   ]
  },
  {
   "cell_type": "code",
   "execution_count": null,
   "metadata": {},
   "outputs": [],
   "source": [
    "!qiime qurro loading-plot \\\n",
    "    --i-ranks /mnt/zarrinpar/scratch/sfloresr/NASH_KF/multiomics_16smtb/result_all/ordination-mtb.qza \\\n",
    "    --i-table /mnt/zarrinpar/scratch/sfloresr/NASH_KF/multiomics_16smtb/jrpca_mtb_feattab.qza \\\n",
    "    --m-sample-metadata-file /mnt/zarrinpar/scratch/sfloresr/NASH_KF/multiomics_16smtb/jrpca_metadata.txt \\\n",
    "    --m-feature-metadata-file /mnt/zarrinpar/scratch/sfloresr/NASH_KF/multiomics_16smtb/jrpca_mtb_annotation_key.txt \\\n",
    "    --o-visualization /mnt/zarrinpar/scratch/sfloresr/NASH_KF/multiomics_16smtb/result_all/Qurro-mtb.qzv\n",
    "\n",
    "!qiime qurro loading-plot \\\n",
    "    --i-ranks /mnt/zarrinpar/scratch/sfloresr/NASH_KF/multiomics_16smtb/result_all/ordination-16s.qza \\\n",
    "    --i-table /mnt/zarrinpar/scratch/sfloresr/NASH_KF/multiomics_16smtb/jrpca_16s_feattab.qza \\\n",
    "    --m-sample-metadata-file /mnt/zarrinpar/scratch/sfloresr/NASH_KF/multiomics_16smtb/jrpca_metadata.txt \\\n",
    "    --m-feature-metadata-file /mnt/zarrinpar/scratch/sfloresr/NASH_KF/multiomics_16smtb/jrpca_16s_annotation_key.txt \\\n",
    "    --o-visualization /mnt/zarrinpar/scratch/sfloresr/NASH_KF/multiomics_16smtb/result_all/Qurro-16s.qzv"
   ]
  },
  {
   "cell_type": "code",
   "execution_count": null,
   "metadata": {},
   "outputs": [],
   "source": [
    "qiime gemelli feature-correlation-table \\\n",
    "    --i-ordination /mnt/zarrinpar/scratch/sfloresr/NASH_KF/multiomics_16smtb/result_all/joint_biplot.qza \\\n",
    "    --o-correlation-table /mnt/zarrinpar/scratch/sfloresr/NASH_KF/multiomics_16smtb/result_all/correlation_table.qza\n",
    "\n",
    "qiime gemelli feature-correlation-table \\\n",
    "    --i-ordination /mnt/zarrinpar/scratch/sfloresr/NASH_KF/multiomics_16smtb/result_all/ordination-mtb.qza \\\n",
    "    --o-correlation-table /mnt/zarrinpar/scratch/sfloresr/NASH_KF/multiomics_16smtb/result_all/correlation_mtb_table.qza\n",
    "\n",
    "qiime gemelli feature-correlation-table \\\n",
    "    --i-ordination /mnt/zarrinpar/scratch/sfloresr/NASH_KF/multiomics_16smtb/result_all/ordination-16s.qza \\\n",
    "    --o-correlation-table /mnt/zarrinpar/scratch/sfloresr/NASH_KF/multiomics_16smtb/result_all/correlation_16s_table.qza"
   ]
  },
  {
   "cell_type": "code",
   "execution_count": null,
   "metadata": {},
   "outputs": [],
   "source": [
    "qiime tools export --input-path /mnt/zarrinpar/scratch/sfloresr/NASH_KF/multiomics_16smtb/result_all/correlation_table.qza \\\n",
    "--output-path /mnt/zarrinpar/scratch/sfloresr/NASH_KF/multiomics_16smtb/result_all/correlation_table\n",
    "\n",
    "qiime tools export --input-path /mnt/zarrinpar/scratch/sfloresr/NASH_KF/multiomics_16smtb/result_all/correlation_mtb_table.qza \\\n",
    "--output-path /mnt/zarrinpar/scratch/sfloresr/NASH_KF/multiomics_16smtb/result_all/correlation_mtb_table\n",
    "\n",
    "qiime tools export --input-path /mnt/zarrinpar/scratch/sfloresr/NASH_KF/multiomics_16smtb/result_all/correlation_16s_table.qza \\\n",
    "--output-path /mnt/zarrinpar/scratch/sfloresr/NASH_KF/multiomics_16smtb/result_all/correlation_16s_table"
   ]
  },
  {
   "cell_type": "code",
   "execution_count": 3,
   "metadata": {},
   "outputs": [
    {
     "name": "stderr",
     "output_type": "stream",
     "text": [
      "/opt/anaconda3/envs/mmvec-qiime2-2020.11/lib/python3.6/site-packages/IPython/core/interactiveshell.py:3263: DtypeWarning: Columns (0) have mixed types.Specify dtype option on import or set low_memory=False.\n",
      "  if (await self.run_code(code, result,  async_=asy)):\n"
     ]
    }
   ],
   "source": [
    "# import data utils\n",
    "import pandas as pd\n",
    "import qiime2 as q2\n",
    "# plotting\n",
    "import matplotlib\n",
    "import seaborn as sns\n",
    "import matplotlib.pyplot as plt\n",
    "\n",
    "plt.style.use('ggplot')\n",
    "%matplotlib inline\n",
    "\n",
    "# export the correlations (Note: this step can take a few minutes)\n",
    "correlation_table = pd.read_table('/mnt/zarrinpar/scratch/sfloresr/NASH_KF/multiomics_16smtb/result_all/correlation_table/Correlation.tsv', sep='\\t', index_col=0)\n",
    "#correlation_table = q2.Artifact.load('/mnt/zarrinpar/scratch/sfloresr/TRF_multiomics/multiomics/jrpca/correlation_table.qza')\n",
    "#correlation_table_df = correlation_table.view(pd.DataFrame)"
   ]
  },
  {
   "cell_type": "code",
   "execution_count": 4,
   "metadata": {},
   "outputs": [
    {
     "data": {
      "text/plain": [
       "(4667, 4667)"
      ]
     },
     "execution_count": 4,
     "metadata": {},
     "output_type": "execute_result"
    }
   ],
   "source": [
    "correlation_table.shape"
   ]
  },
  {
   "cell_type": "code",
   "execution_count": 5,
   "metadata": {},
   "outputs": [
    {
     "data": {
      "text/html": [
       "<div>\n",
       "<style scoped>\n",
       "    .dataframe tbody tr th:only-of-type {\n",
       "        vertical-align: middle;\n",
       "    }\n",
       "\n",
       "    .dataframe tbody tr th {\n",
       "        vertical-align: top;\n",
       "    }\n",
       "\n",
       "    .dataframe thead th {\n",
       "        text-align: right;\n",
       "    }\n",
       "</style>\n",
       "<table border=\"1\" class=\"dataframe\">\n",
       "  <thead>\n",
       "    <tr style=\"text-align: right;\">\n",
       "      <th></th>\n",
       "      <th>1</th>\n",
       "      <th>2</th>\n",
       "      <th>3</th>\n",
       "      <th>4</th>\n",
       "      <th>5</th>\n",
       "      <th>6</th>\n",
       "      <th>7</th>\n",
       "      <th>8</th>\n",
       "      <th>9</th>\n",
       "      <th>10</th>\n",
       "      <th>...</th>\n",
       "      <th>cf7f7463ab3cfdd7d0a4046d06f37dc8</th>\n",
       "      <th>3bd9259f27f5ee091b992690ffd9d93f</th>\n",
       "      <th>aa5e7338afe8a35fbac4083c1d1b8721</th>\n",
       "      <th>cd79f35f96e1b7fe7b111478ced7adc3</th>\n",
       "      <th>95407e393b861f386c0afe485c8ea7b2</th>\n",
       "      <th>fa8fd133d35f1f58e08b2cfc9a88cb96</th>\n",
       "      <th>6dbeccdecaeb89a34858b202cbc46eb2</th>\n",
       "      <th>28c175fe53daa07decb4c94cca5b4f89</th>\n",
       "      <th>7c84a255717c923ef731a08905705b8d</th>\n",
       "      <th>cf4fac0cbb58da66ff59450ec524a7f4</th>\n",
       "    </tr>\n",
       "    <tr>\n",
       "      <th>featureid</th>\n",
       "      <th></th>\n",
       "      <th></th>\n",
       "      <th></th>\n",
       "      <th></th>\n",
       "      <th></th>\n",
       "      <th></th>\n",
       "      <th></th>\n",
       "      <th></th>\n",
       "      <th></th>\n",
       "      <th></th>\n",
       "      <th></th>\n",
       "      <th></th>\n",
       "      <th></th>\n",
       "      <th></th>\n",
       "      <th></th>\n",
       "      <th></th>\n",
       "      <th></th>\n",
       "      <th></th>\n",
       "      <th></th>\n",
       "      <th></th>\n",
       "      <th></th>\n",
       "    </tr>\n",
       "  </thead>\n",
       "  <tbody>\n",
       "    <tr>\n",
       "      <th>1</th>\n",
       "      <td>1.0</td>\n",
       "      <td>1.0</td>\n",
       "      <td>1.0</td>\n",
       "      <td>1.0</td>\n",
       "      <td>1.0</td>\n",
       "      <td>1.0</td>\n",
       "      <td>1.0</td>\n",
       "      <td>1.0</td>\n",
       "      <td>1.0</td>\n",
       "      <td>1.0</td>\n",
       "      <td>...</td>\n",
       "      <td>-1.0</td>\n",
       "      <td>-1.0</td>\n",
       "      <td>-1.0</td>\n",
       "      <td>-1.0</td>\n",
       "      <td>1.0</td>\n",
       "      <td>-1.0</td>\n",
       "      <td>1.0</td>\n",
       "      <td>-1.0</td>\n",
       "      <td>-1.0</td>\n",
       "      <td>-1.0</td>\n",
       "    </tr>\n",
       "    <tr>\n",
       "      <th>2</th>\n",
       "      <td>1.0</td>\n",
       "      <td>1.0</td>\n",
       "      <td>1.0</td>\n",
       "      <td>1.0</td>\n",
       "      <td>1.0</td>\n",
       "      <td>1.0</td>\n",
       "      <td>1.0</td>\n",
       "      <td>1.0</td>\n",
       "      <td>1.0</td>\n",
       "      <td>1.0</td>\n",
       "      <td>...</td>\n",
       "      <td>-1.0</td>\n",
       "      <td>-1.0</td>\n",
       "      <td>-1.0</td>\n",
       "      <td>-1.0</td>\n",
       "      <td>1.0</td>\n",
       "      <td>-1.0</td>\n",
       "      <td>1.0</td>\n",
       "      <td>-1.0</td>\n",
       "      <td>-1.0</td>\n",
       "      <td>-1.0</td>\n",
       "    </tr>\n",
       "    <tr>\n",
       "      <th>3</th>\n",
       "      <td>1.0</td>\n",
       "      <td>1.0</td>\n",
       "      <td>1.0</td>\n",
       "      <td>1.0</td>\n",
       "      <td>1.0</td>\n",
       "      <td>1.0</td>\n",
       "      <td>1.0</td>\n",
       "      <td>1.0</td>\n",
       "      <td>1.0</td>\n",
       "      <td>1.0</td>\n",
       "      <td>...</td>\n",
       "      <td>-1.0</td>\n",
       "      <td>-1.0</td>\n",
       "      <td>-1.0</td>\n",
       "      <td>-1.0</td>\n",
       "      <td>1.0</td>\n",
       "      <td>-1.0</td>\n",
       "      <td>1.0</td>\n",
       "      <td>-1.0</td>\n",
       "      <td>-1.0</td>\n",
       "      <td>-1.0</td>\n",
       "    </tr>\n",
       "    <tr>\n",
       "      <th>4</th>\n",
       "      <td>1.0</td>\n",
       "      <td>1.0</td>\n",
       "      <td>1.0</td>\n",
       "      <td>1.0</td>\n",
       "      <td>1.0</td>\n",
       "      <td>1.0</td>\n",
       "      <td>1.0</td>\n",
       "      <td>1.0</td>\n",
       "      <td>1.0</td>\n",
       "      <td>1.0</td>\n",
       "      <td>...</td>\n",
       "      <td>-1.0</td>\n",
       "      <td>-1.0</td>\n",
       "      <td>-1.0</td>\n",
       "      <td>-1.0</td>\n",
       "      <td>1.0</td>\n",
       "      <td>-1.0</td>\n",
       "      <td>1.0</td>\n",
       "      <td>-1.0</td>\n",
       "      <td>-1.0</td>\n",
       "      <td>-1.0</td>\n",
       "    </tr>\n",
       "    <tr>\n",
       "      <th>5</th>\n",
       "      <td>1.0</td>\n",
       "      <td>1.0</td>\n",
       "      <td>1.0</td>\n",
       "      <td>1.0</td>\n",
       "      <td>1.0</td>\n",
       "      <td>1.0</td>\n",
       "      <td>1.0</td>\n",
       "      <td>1.0</td>\n",
       "      <td>1.0</td>\n",
       "      <td>1.0</td>\n",
       "      <td>...</td>\n",
       "      <td>-1.0</td>\n",
       "      <td>-1.0</td>\n",
       "      <td>-1.0</td>\n",
       "      <td>-1.0</td>\n",
       "      <td>1.0</td>\n",
       "      <td>-1.0</td>\n",
       "      <td>1.0</td>\n",
       "      <td>-1.0</td>\n",
       "      <td>-1.0</td>\n",
       "      <td>-1.0</td>\n",
       "    </tr>\n",
       "  </tbody>\n",
       "</table>\n",
       "<p>5 rows × 4667 columns</p>\n",
       "</div>"
      ],
      "text/plain": [
       "             1    2    3    4    5    6    7    8    9   10  ...  \\\n",
       "featureid                                                    ...   \n",
       "1          1.0  1.0  1.0  1.0  1.0  1.0  1.0  1.0  1.0  1.0  ...   \n",
       "2          1.0  1.0  1.0  1.0  1.0  1.0  1.0  1.0  1.0  1.0  ...   \n",
       "3          1.0  1.0  1.0  1.0  1.0  1.0  1.0  1.0  1.0  1.0  ...   \n",
       "4          1.0  1.0  1.0  1.0  1.0  1.0  1.0  1.0  1.0  1.0  ...   \n",
       "5          1.0  1.0  1.0  1.0  1.0  1.0  1.0  1.0  1.0  1.0  ...   \n",
       "\n",
       "           cf7f7463ab3cfdd7d0a4046d06f37dc8  3bd9259f27f5ee091b992690ffd9d93f  \\\n",
       "featureid                                                                       \n",
       "1                                      -1.0                              -1.0   \n",
       "2                                      -1.0                              -1.0   \n",
       "3                                      -1.0                              -1.0   \n",
       "4                                      -1.0                              -1.0   \n",
       "5                                      -1.0                              -1.0   \n",
       "\n",
       "           aa5e7338afe8a35fbac4083c1d1b8721  cd79f35f96e1b7fe7b111478ced7adc3  \\\n",
       "featureid                                                                       \n",
       "1                                      -1.0                              -1.0   \n",
       "2                                      -1.0                              -1.0   \n",
       "3                                      -1.0                              -1.0   \n",
       "4                                      -1.0                              -1.0   \n",
       "5                                      -1.0                              -1.0   \n",
       "\n",
       "           95407e393b861f386c0afe485c8ea7b2  fa8fd133d35f1f58e08b2cfc9a88cb96  \\\n",
       "featureid                                                                       \n",
       "1                                       1.0                              -1.0   \n",
       "2                                       1.0                              -1.0   \n",
       "3                                       1.0                              -1.0   \n",
       "4                                       1.0                              -1.0   \n",
       "5                                       1.0                              -1.0   \n",
       "\n",
       "           6dbeccdecaeb89a34858b202cbc46eb2  28c175fe53daa07decb4c94cca5b4f89  \\\n",
       "featureid                                                                       \n",
       "1                                       1.0                              -1.0   \n",
       "2                                       1.0                              -1.0   \n",
       "3                                       1.0                              -1.0   \n",
       "4                                       1.0                              -1.0   \n",
       "5                                       1.0                              -1.0   \n",
       "\n",
       "           7c84a255717c923ef731a08905705b8d  cf4fac0cbb58da66ff59450ec524a7f4  \n",
       "featureid                                                                      \n",
       "1                                      -1.0                              -1.0  \n",
       "2                                      -1.0                              -1.0  \n",
       "3                                      -1.0                              -1.0  \n",
       "4                                      -1.0                              -1.0  \n",
       "5                                      -1.0                              -1.0  \n",
       "\n",
       "[5 rows x 4667 columns]"
      ]
     },
     "execution_count": 5,
     "metadata": {},
     "output_type": "execute_result"
    }
   ],
   "source": [
    "correlation_table.head()"
   ]
  },
  {
   "cell_type": "code",
   "execution_count": 6,
   "metadata": {},
   "outputs": [
    {
     "data": {
      "image/png": "[encoded data removed]",
      "text/plain": [
       "<Figure size 720x720 with 4 Axes>"
      ]
     },
     "metadata": {
      "needs_background": "light"
     },
     "output_type": "display_data"
    }
   ],
   "source": [
    "# plot the correlations (Note: this step can take a few minutes)\n",
    "sns.clustermap(correlation_table,yticklabels=False,\n",
    "               xticklabels=False)\n",
    "\n",
    "#plt.show()\n",
    "plt.savefig('/mnt/zarrinpar/scratch/sfloresr/NASH_KF/multiomics_16smtb/result_all/correlation_table/Correlation_heatmap_all.png',\n",
    "            dpi=300,bbox_inches='tight')"
   ]
  },
  {
   "cell_type": "code",
   "execution_count": 7,
   "metadata": {},
   "outputs": [
    {
     "data": {
      "image/png": "[encoded data removed]",
      "text/plain": [
       "<Figure size 720x720 with 4 Axes>"
      ]
     },
     "metadata": {
      "needs_background": "light"
     },
     "output_type": "display_data"
    }
   ],
   "source": [
    "# import data utils\n",
    "import pandas as pd\n",
    "import qiime2 as q2\n",
    "# plotting\n",
    "import matplotlib\n",
    "import seaborn as sns\n",
    "import matplotlib.pyplot as plt\n",
    "\n",
    "plt.style.use('ggplot')\n",
    "%matplotlib inline\n",
    "\n",
    "# export the correlations (Note: this step can take a few minutes)\n",
    "correlation_table = pd.read_table('/mnt/zarrinpar/scratch/sfloresr/NASH_KF/multiomics_16smtb/result_all/correlation_mtb_table/Correlation.tsv', sep='\\t', index_col=0)\n",
    "\n",
    "# plot the correlations (Note: this step can take a few minutes)\n",
    "sns.clustermap(correlation_table,yticklabels=False,\n",
    "               xticklabels=False)\n",
    "\n",
    "#plt.show()\n",
    "plt.savefig('/mnt/zarrinpar/scratch/sfloresr/NASH_KF/multiomics_16smtb/result_all/correlation_mtb_table/Correlation_heatmap_mtb.png',\n",
    "            dpi=300,bbox_inches='tight')"
   ]
  },
  {
   "cell_type": "code",
   "execution_count": 8,
   "metadata": {},
   "outputs": [
    {
     "data": {
      "image/png": "[encoded data removed]",
      "text/plain": [
       "<Figure size 720x720 with 4 Axes>"
      ]
     },
     "metadata": {
      "needs_background": "light"
     },
     "output_type": "display_data"
    }
   ],
   "source": [
    "# import data utils\n",
    "import pandas as pd\n",
    "import qiime2 as q2\n",
    "# plotting\n",
    "import matplotlib\n",
    "import seaborn as sns\n",
    "import matplotlib.pyplot as plt\n",
    "\n",
    "plt.style.use('ggplot')\n",
    "%matplotlib inline\n",
    "\n",
    "# export the correlations (Note: this step can take a few minutes)\n",
    "correlation_table = pd.read_table('/mnt/zarrinpar/scratch/sfloresr/NASH_KF/multiomics_16smtb/result_all/correlation_16s_table/Correlation.tsv', sep='\\t', index_col=0)\n",
    "\n",
    "# plot the correlations (Note: this step can take a few minutes)\n",
    "sns.clustermap(correlation_table,yticklabels=False,\n",
    "               xticklabels=False)\n",
    "\n",
    "#plt.show()\n",
    "plt.savefig('/mnt/zarrinpar/scratch/sfloresr/NASH_KF/multiomics_16smtb/result_all/correlation_16s_table/Correlation_heatmap_16s.png',\n",
    "            dpi=300,bbox_inches='tight')"
   ]
  },
  {
   "cell_type": "markdown",
   "metadata": {},
   "source": [
    "## Selecting the microbes that were different using Birdman and mtbs that are BAs"
   ]
  },
  {
   "cell_type": "code",
   "execution_count": null,
   "metadata": {},
   "outputs": [],
   "source": [
    "biom convert \\\n",
    " -i jrpca_16sbdm_feattab.txt \\\n",
    " -o jrpca_16sbdm_feattab.biom \\\n",
    " --table-type=\"OTU table\" \\\n",
    " --to-hdf5\n",
    "\n",
    "qiime tools import \\\n",
    " --input-path jrpca_16sbdm_feattab.biom \\\n",
    " --output-path jrpca_16sbdm_feattab.qza \\\n",
    " --type FeatureTable[Frequency]\n",
    "\n",
    "biom convert \\\n",
    " -i jrpca_mtbBA_feattab.txt \\\n",
    " -o jrpca_mtbBA_feattab.biom \\\n",
    " --table-type=\"OTU table\" \\\n",
    " --to-hdf5\n",
    "\n",
    "qiime tools import \\\n",
    " --input-path jrpca_mtbBA_feattab.biom \\\n",
    " --output-path jrpca_mtbBA_feattab.qza \\\n",
    " --type FeatureTable[Frequency]"
   ]
  },
  {
   "cell_type": "code",
   "execution_count": null,
   "metadata": {},
   "outputs": [],
   "source": [
    "qiime gemelli joint-rpca \\\n",
    "    --i-tables jrpca_16sbdm_feattab.qza jrpca_mtbBA_feattab.qza \\\n",
    "    --m-sample-metadata-file /mnt/zarrinpar/scratch/sfloresr/NASH_KF/multiomics_16smtb/jrpca_metadata.txt \\\n",
    "    --p-train-test-column  'traintest' \\\n",
    "    --p-max-iterations 25 \\\n",
    "    --p-min-feature-frequency 5 \\\n",
    "    --o-biplot /mnt/zarrinpar/scratch/sfloresr/NASH_KF/multiomics_16smtb/result_bdmBA/joint_biplot.qza\\\n",
    "    --o-distance-matrix /mnt/zarrinpar/scratch/sfloresr/NASH_KF/multiomics_16smtb/result_bdmBA/joint_distance_matrix.qza\\\n",
    "    --o-cross-validation-error /mnt/zarrinpar/scratch/sfloresr/NASH_KF/multiomics_16smtb/result_bdmBA/cross_validation_error.qza"
   ]
  },
  {
   "cell_type": "code",
   "execution_count": null,
   "metadata": {},
   "outputs": [],
   "source": [
    "qiime emperor biplot \\\n",
    "    --i-biplot /mnt/zarrinpar/scratch/sfloresr/NASH_KF/multiomics_16smtb/result_bdmBA/joint_biplot.qza \\\n",
    "    --m-sample-metadata-file /mnt/zarrinpar/scratch/sfloresr/NASH_KF/multiomics_16smtb/jrpca_metadata.txt \\\n",
    "    --p-number-of-features 25 \\\n",
    "    --o-visualization /mnt/zarrinpar/scratch/sfloresr/NASH_KF/multiomics_16smtb/result_bdmBA/emperor-biplot.qzv"
   ]
  },
  {
   "cell_type": "code",
   "execution_count": null,
   "metadata": {},
   "outputs": [],
   "source": [
    "qiime gemelli feature-correlation-table \\\n",
    "    --i-ordination /mnt/zarrinpar/scratch/sfloresr/NASH_KF/multiomics_16smtb/result_bdmBA/joint_biplot.qza \\\n",
    "    --o-correlation-table /mnt/zarrinpar/scratch/sfloresr/NASH_KF/multiomics_16smtb/result_bdmBA/correlation_table.qza\n",
    "\n",
    "qiime tools export --input-path /mnt/zarrinpar/scratch/sfloresr/NASH_KF/multiomics_16smtb/result_bdmBA/correlation_table.qza \\\n",
    "--output-path /mnt/zarrinpar/scratch/sfloresr/NASH_KF/multiomics_16smtb/result_bdmBA/correlation_table"
   ]
  },
  {
   "cell_type": "code",
   "execution_count": 9,
   "metadata": {},
   "outputs": [
    {
     "data": {
      "image/png": "[encoded data removed]",
      "text/plain": [
       "<Figure size 720x720 with 4 Axes>"
      ]
     },
     "metadata": {
      "needs_background": "light"
     },
     "output_type": "display_data"
    }
   ],
   "source": [
    "# import data utils\n",
    "import pandas as pd\n",
    "import qiime2 as q2\n",
    "# plotting\n",
    "import matplotlib\n",
    "import seaborn as sns\n",
    "import matplotlib.pyplot as plt\n",
    "\n",
    "plt.style.use('ggplot')\n",
    "%matplotlib inline\n",
    "\n",
    "# export the correlations (Note: this step can take a few minutes)\n",
    "correlation_table = pd.read_table('/mnt/zarrinpar/scratch/sfloresr/NASH_KF/multiomics_16smtb/result_bdmBA/correlation_table/Correlation.tsv', sep='\\t', index_col=0)\n",
    "\n",
    "# plot the correlations (Note: this step can take a few minutes)\n",
    "sns.clustermap(correlation_table,yticklabels=False,\n",
    "               xticklabels=False)\n",
    "\n",
    "#plt.show()\n",
    "plt.savefig('/mnt/zarrinpar/scratch/sfloresr/NASH_KF/multiomics_16smtb/result_bdmBA/correlation_table/Correlation_heatmap.png',\n",
    "            dpi=300,bbox_inches='tight')"
   ]
  },
  {
   "cell_type": "markdown",
   "metadata": {},
   "source": [
    "## Selecting the microbes that were different & shared using Birdman and mtbs that are BAs"
   ]
  },
  {
   "cell_type": "code",
   "execution_count": null,
   "metadata": {},
   "outputs": [],
   "source": [
    "biom convert \\\n",
    " -i jrpca_16sbdm_shared_feattab.txt \\\n",
    " -o jrpca_16sbdm_shared_feattab.biom \\\n",
    " --table-type=\"OTU table\" \\\n",
    " --to-hdf5\n",
    "\n",
    "qiime tools import \\\n",
    " --input-path jrpca_16sbdm_shared_feattab.biom \\\n",
    " --output-path jrpca_16sbdm_shared_feattab.qza \\\n",
    " --type FeatureTable[Frequency]\n",
    "\n",
    "biom convert \\\n",
    " -i jrpca_mtbBA_feattab.txt \\\n",
    " -o jrpca_mtbBA_feattab.biom \\\n",
    " --table-type=\"OTU table\" \\\n",
    " --to-hdf5\n",
    "\n",
    "qiime tools import \\\n",
    " --input-path jrpca_mtbBA_feattab.biom \\\n",
    " --output-path jrpca_mtbBA_feattab.qza \\\n",
    " --type FeatureTable[Frequency]"
   ]
  },
  {
   "cell_type": "code",
   "execution_count": null,
   "metadata": {},
   "outputs": [],
   "source": [
    "qiime gemelli joint-rpca \\\n",
    "    --i-tables jrpca_16sbdm_shared_feattab.qza jrpca_mtbBA_feattab.qza \\\n",
    "    --m-sample-metadata-file /mnt/zarrinpar/scratch/sfloresr/NASH_KF/multiomics_16smtb/jrpca_metadata.txt \\\n",
    "    --p-train-test-column  'traintest' \\\n",
    "    --p-max-iterations 25 \\\n",
    "    --p-min-feature-frequency 5 \\\n",
    "    --o-biplot /mnt/zarrinpar/scratch/sfloresr/NASH_KF/multiomics_16smtb/result_bdmBA_sel/joint_biplot.qza\\\n",
    "    --o-distance-matrix /mnt/zarrinpar/scratch/sfloresr/NASH_KF/multiomics_16smtb/result_bdmBA_sel/joint_distance_matrix.qza\\\n",
    "    --o-cross-validation-error /mnt/zarrinpar/scratch/sfloresr/NASH_KF/multiomics_16smtb/result_bdmBA_sel/cross_validation_error.qza"
   ]
  },
  {
   "cell_type": "code",
   "execution_count": null,
   "metadata": {},
   "outputs": [],
   "source": [
    "qiime emperor biplot \\\n",
    "    --i-biplot /mnt/zarrinpar/scratch/sfloresr/NASH_KF/multiomics_16smtb/result_bdmBA_sel/joint_biplot.qza \\\n",
    "    --m-sample-metadata-file /mnt/zarrinpar/scratch/sfloresr/NASH_KF/multiomics_16smtb/jrpca_metadata.txt \\\n",
    "    --p-number-of-features 25 \\\n",
    "    --o-visualization /mnt/zarrinpar/scratch/sfloresr/NASH_KF/multiomics_16smtb/result_bdmBA_sel/emperor-biplot.qzv"
   ]
  },
  {
   "cell_type": "code",
   "execution_count": null,
   "metadata": {},
   "outputs": [],
   "source": [
    "qiime gemelli feature-correlation-table \\\n",
    "    --i-ordination /mnt/zarrinpar/scratch/sfloresr/NASH_KF/multiomics_16smtb/result_bdmBA_sel/joint_biplot.qza \\\n",
    "    --o-correlation-table /mnt/zarrinpar/scratch/sfloresr/NASH_KF/multiomics_16smtb/result_bdmBA_sel/correlation_table.qza\n",
    "\n",
    "qiime tools export --input-path /mnt/zarrinpar/scratch/sfloresr/NASH_KF/multiomics_16smtb/result_bdmBA_sel/correlation_table.qza \\\n",
    "--output-path /mnt/zarrinpar/scratch/sfloresr/NASH_KF/multiomics_16smtb/result_bdmBA_sel/correlation_table"
   ]
  },
  {
   "cell_type": "code",
   "execution_count": 11,
   "metadata": {},
   "outputs": [
    {
     "data": {
      "image/png": "[encoded data removed]",
      "text/plain": [
       "<Figure size 720x720 with 4 Axes>"
      ]
     },
     "metadata": {
      "needs_background": "light"
     },
     "output_type": "display_data"
    }
   ],
   "source": [
    "# import data utils\n",
    "import pandas as pd\n",
    "import qiime2 as q2\n",
    "# plotting\n",
    "import matplotlib\n",
    "import seaborn as sns\n",
    "import matplotlib.pyplot as plt\n",
    "\n",
    "plt.style.use('ggplot')\n",
    "%matplotlib inline\n",
    "\n",
    "# export the correlations (Note: this step can take a few minutes)\n",
    "correlation_table = pd.read_table('/mnt/zarrinpar/scratch/sfloresr/NASH_KF/multiomics_16smtb/result_bdmBA_sel/correlation_table/Correlation.tsv', sep='\\t', index_col=0)\n",
    "\n",
    "# plot the correlations (Note: this step can take a few minutes)\n",
    "sns.clustermap(correlation_table,yticklabels=False,\n",
    "               xticklabels=False)\n",
    "\n",
    "#plt.show()\n",
    "plt.savefig('/mnt/zarrinpar/scratch/sfloresr/NASH_KF/multiomics_16smtb/result_bdmBA_sel/correlation_table/Correlation_heatmap.png',\n",
    "            dpi=300,bbox_inches='tight')"
   ]
  },
  {
   "cell_type": "markdown",
   "metadata": {},
   "source": [
    "## Selecting the microbes (10) and metabolites (41) that were different & shared b/w wk8 and wk12 using Birdman (wk12 quant tables)"
   ]
  },
  {
   "cell_type": "code",
   "execution_count": null,
   "metadata": {},
   "outputs": [],
   "source": [
    "biom convert \\\n",
    " -i jrpca_16sbdm_shared_feattab_gg2.txt \\\n",
    " -o jrpca_16sbdm_shared_feattab_gg2.biom \\\n",
    " --table-type=\"OTU table\" \\\n",
    " --to-hdf5\n",
    "\n",
    "qiime tools import \\\n",
    " --input-path jrpca_16sbdm_shared_feattab_gg2.biom \\\n",
    " --output-path jrpca_16sbdm_shared_feattab_gg2.qza \\\n",
    " --type FeatureTable[Frequency]\n",
    "\n",
    "biom convert \\\n",
    " -i jrpca_mtbbdm_sel41_feattab.txt \\\n",
    " -o jrpca_mtbbdm_sel41_feattab.biom \\\n",
    " --table-type=\"OTU table\" \\\n",
    " --to-hdf5\n",
    "\n",
    "qiime tools import \\\n",
    " --input-path jrpca_mtbbdm_sel41_feattab.biom \\\n",
    " --output-path jrpca_mtbbdm_sel41_feattab.qza \\\n",
    " --type FeatureTable[Frequency]"
   ]
  },
  {
   "cell_type": "code",
   "execution_count": null,
   "metadata": {},
   "outputs": [],
   "source": [
    "qiime gemelli joint-rpca \\\n",
    "    --i-tables jrpca_16sbdm_shared_feattab_gg2.qza jrpca_mtbbdm_sel41_feattab.qza \\\n",
    "    --m-sample-metadata-file /mnt/zarrinpar/scratch/sfloresr/NASH_KF/multiomics_16smtb/jrpca_metadata.txt \\\n",
    "    --p-train-test-column  'traintest' \\\n",
    "    --p-max-iterations 25 \\\n",
    "    --p-min-feature-frequency 5 \\\n",
    "    --o-biplot /mnt/zarrinpar/scratch/sfloresr/NASH_KF/multiomics_16smtb/result_bdm_sel41mtb_sel10micro_gg2/joint_biplot.qza\\\n",
    "    --o-distance-matrix /mnt/zarrinpar/scratch/sfloresr/NASH_KF/multiomics_16smtb/result_bdm_sel41mtb_sel10micro_gg2/joint_distance_matrix.qza\\\n",
    "    --o-cross-validation-error /mnt/zarrinpar/scratch/sfloresr/NASH_KF/multiomics_16smtb/result_bdm_sel41mtb_sel10micro_gg2/cross_validation_error.qza"
   ]
  },
  {
   "cell_type": "code",
   "execution_count": null,
   "metadata": {},
   "outputs": [],
   "source": [
    "qiime emperor biplot \\\n",
    "    --i-biplot /mnt/zarrinpar/scratch/sfloresr/NASH_KF/multiomics_16smtb/result_bdm_sel41mtb_sel10micro_gg2/joint_biplot.qza \\\n",
    "    --m-sample-metadata-file /mnt/zarrinpar/scratch/sfloresr/NASH_KF/multiomics_16smtb/jrpca_metadata.txt \\\n",
    "    --p-number-of-features 25 \\\n",
    "    --o-visualization /mnt/zarrinpar/scratch/sfloresr/NASH_KF/multiomics_16smtb/result_bdm_sel41mtb_sel10micro_gg2/emperor-biplot.qzv"
   ]
  },
  {
   "cell_type": "code",
   "execution_count": null,
   "metadata": {},
   "outputs": [],
   "source": [
    "qiime gemelli feature-correlation-table \\\n",
    "    --i-ordination /mnt/zarrinpar/scratch/sfloresr/NASH_KF/multiomics_16smtb/result_bdm_sel41mtb_sel10micro_gg2/joint_biplot.qza \\\n",
    "    --o-correlation-table /mnt/zarrinpar/scratch/sfloresr/NASH_KF/multiomics_16smtb/result_bdm_sel41mtb_sel10micro_gg2/correlation_table.qza\n",
    "\n",
    "qiime tools export --input-path /mnt/zarrinpar/scratch/sfloresr/NASH_KF/multiomics_16smtb/result_bdm_sel41mtb_sel10micro_gg2/correlation_table.qza \\\n",
    "--output-path /mnt/zarrinpar/scratch/sfloresr/NASH_KF/multiomics_16smtb/result_bdm_sel41mtb_sel10micro_gg2/correlation_table"
   ]
  },
  {
   "cell_type": "code",
   "execution_count": 14,
   "metadata": {},
   "outputs": [
    {
     "data": {
      "image/png": "[encoded data removed]",
      "text/plain": [
       "<Figure size 720x720 with 4 Axes>"
      ]
     },
     "metadata": {
      "needs_background": "light"
     },
     "output_type": "display_data"
    }
   ],
   "source": [
    "# import data utils\n",
    "import pandas as pd\n",
    "import qiime2 as q2\n",
    "# plotting\n",
    "import matplotlib\n",
    "import seaborn as sns\n",
    "import matplotlib.pyplot as plt\n",
    "\n",
    "plt.style.use('ggplot')\n",
    "%matplotlib inline\n",
    "\n",
    "# export the correlations (Note: this step can take a few minutes)\n",
    "correlation_table = pd.read_table('/mnt/zarrinpar/scratch/sfloresr/NASH_KF/multiomics_16smtb/result_bdm_sel41mtb_sel10micro_gg2/correlation_table/Correlation.tsv', sep='\\t', index_col=0)\n",
    "\n",
    "# plot the correlations (Note: this step can take a few minutes)\n",
    "sns.clustermap(correlation_table,yticklabels=False,\n",
    "               xticklabels=False)\n",
    "\n",
    "#plt.show()\n",
    "plt.savefig('/mnt/zarrinpar/scratch/sfloresr/NASH_KF/multiomics_16smtb/result_bdm_sel41mtb_sel10micro_gg2/correlation_table/Correlation_heatmap.png',\n",
    "            dpi=300,bbox_inches='tight')"
   ]
  },
  {
   "cell_type": "markdown",
   "metadata": {},
   "source": [
    "## Selecting the microbes (10) and metabolites (41) that were different & shared b/w wk8 and wk12 using Birdman (wk8 quant tables)"
   ]
  },
  {
   "cell_type": "code",
   "execution_count": null,
   "metadata": {},
   "outputs": [],
   "source": [
    "biom convert \\\n",
    " -i jrpca_16sbdm_shared_feattab_wk8_gg2.txt \\\n",
    " -o jrpca_16sbdm_shared_feattab_wk8_gg2.biom \\\n",
    " --table-type=\"OTU table\" \\\n",
    " --to-hdf5\n",
    "\n",
    "qiime tools import \\\n",
    " --input-path jrpca_16sbdm_shared_feattab_wk8_gg2.biom \\\n",
    " --output-path jrpca_16sbdm_shared_feattab_wk8_gg2.qza \\\n",
    " --type FeatureTable[Frequency]\n",
    "\n",
    "biom convert \\\n",
    " -i jrpca_mtbbdm_sel41_feattab_wk8.txt \\\n",
    " -o jrpca_mtbbdm_sel41_feattab_wk8.biom \\\n",
    " --table-type=\"OTU table\" \\\n",
    " --to-hdf5\n",
    "\n",
    "qiime tools import \\\n",
    " --input-path jrpca_mtbbdm_sel41_feattab_wk8.biom \\\n",
    " --output-path jrpca_mtbbdm_sel41_feattab_wk8.qza \\\n",
    " --type FeatureTable[Frequency]"
   ]
  },
  {
   "cell_type": "code",
   "execution_count": null,
   "metadata": {},
   "outputs": [],
   "source": [
    "qiime gemelli joint-rpca \\\n",
    "    --i-tables jrpca_16sbdm_shared_feattab_wk8_gg2.qza jrpca_mtbbdm_sel41_feattab_wk8.qza \\\n",
    "    --m-sample-metadata-file /mnt/zarrinpar/scratch/sfloresr/NASH_KF/multiomics_16smtb/jrpca_metadata_wk8.txt \\\n",
    "    --p-train-test-column  'traintest' \\\n",
    "    --p-max-iterations 25 \\\n",
    "    --p-min-feature-frequency 5 \\\n",
    "    --o-biplot /mnt/zarrinpar/scratch/sfloresr/NASH_KF/multiomics_16smtb/result_bdm_sel41mtb_sel10micro_wk8_gg2/joint_biplot.qza\\\n",
    "    --o-distance-matrix /mnt/zarrinpar/scratch/sfloresr/NASH_KF/multiomics_16smtb/result_bdm_sel41mtb_sel10micro_wk8_gg2/joint_distance_matrix.qza\\\n",
    "    --o-cross-validation-error /mnt/zarrinpar/scratch/sfloresr/NASH_KF/multiomics_16smtb/result_bdm_sel41mtb_sel10micro_wk8_gg2/cross_validation_error.qza"
   ]
  },
  {
   "cell_type": "code",
   "execution_count": null,
   "metadata": {},
   "outputs": [],
   "source": [
    "qiime emperor biplot \\\n",
    "    --i-biplot /mnt/zarrinpar/scratch/sfloresr/NASH_KF/multiomics_16smtb/result_bdm_sel41mtb_sel10micro_wk8_gg2/joint_biplot.qza \\\n",
    "    --m-sample-metadata-file /mnt/zarrinpar/scratch/sfloresr/NASH_KF/multiomics_16smtb/jrpca_metadata_wk8.txt \\\n",
    "    --p-number-of-features 25 \\\n",
    "    --o-visualization /mnt/zarrinpar/scratch/sfloresr/NASH_KF/multiomics_16smtb/result_bdm_sel41mtb_sel10micro_wk8_gg2/emperor-biplot.qzv"
   ]
  },
  {
   "cell_type": "code",
   "execution_count": null,
   "metadata": {},
   "outputs": [],
   "source": [
    "qiime gemelli feature-correlation-table \\\n",
    "    --i-ordination /mnt/zarrinpar/scratch/sfloresr/NASH_KF/multiomics_16smtb/result_bdm_sel41mtb_sel10micro_wk8_gg2/joint_biplot.qza \\\n",
    "    --o-correlation-table /mnt/zarrinpar/scratch/sfloresr/NASH_KF/multiomics_16smtb/result_bdm_sel41mtb_sel10micro_wk8_gg2/correlation_table.qza\n",
    "\n",
    "qiime tools export --input-path /mnt/zarrinpar/scratch/sfloresr/NASH_KF/multiomics_16smtb/result_bdm_sel41mtb_sel10micro_wk8_gg2/correlation_table.qza \\\n",
    "--output-path /mnt/zarrinpar/scratch/sfloresr/NASH_KF/multiomics_16smtb/result_bdm_sel41mtb_sel10micro_wk8_gg2/correlation_table"
   ]
  },
  {
   "cell_type": "code",
   "execution_count": 15,
   "metadata": {},
   "outputs": [
    {
     "data": {
      "image/png": "[encoded data removed]",
      "text/plain": [
       "<Figure size 720x720 with 4 Axes>"
      ]
     },
     "metadata": {
      "needs_background": "light"
     },
     "output_type": "display_data"
    }
   ],
   "source": [
    "# import data utils\n",
    "import pandas as pd\n",
    "import qiime2 as q2\n",
    "# plotting\n",
    "import matplotlib\n",
    "import seaborn as sns\n",
    "import matplotlib.pyplot as plt\n",
    "\n",
    "plt.style.use('ggplot')\n",
    "%matplotlib inline\n",
    "\n",
    "# export the correlations (Note: this step can take a few minutes)\n",
    "correlation_table = pd.read_table('/mnt/zarrinpar/scratch/sfloresr/NASH_KF/multiomics_16smtb/result_bdm_sel41mtb_sel10micro_wk8_gg2/correlation_table/Correlation.tsv', sep='\\t', index_col=0)\n",
    "\n",
    "# plot the correlations (Note: this step can take a few minutes)\n",
    "sns.clustermap(correlation_table,yticklabels=False,\n",
    "               xticklabels=False)\n",
    "\n",
    "#plt.show()\n",
    "plt.savefig('/mnt/zarrinpar/scratch/sfloresr/NASH_KF/multiomics_16smtb/result_bdm_sel41mtb_sel10micro_wk8_gg2/correlation_table/Correlation_heatmap.png',\n",
    "            dpi=300,bbox_inches='tight')"
   ]
  },
  {
   "cell_type": "code",
   "execution_count": null,
   "metadata": {},
   "outputs": [],
   "source": []
  }
 ],
 "metadata": {
  "kernelspec": {
   "display_name": "mmvec-qiime2-2020.11",
   "language": "python",
   "name": "mmvec-qiime2-2020.11"
  },
  "language_info": {
   "codemirror_mode": {
    "name": "ipython",
    "version": 3
   },
   "file_extension": ".py",
   "mimetype": "text/x-python",
   "name": "python",
   "nbconvert_exporter": "python",
   "pygments_lexer": "ipython3",
   "version": "3.6.12"
  }
 },
 "nbformat": 4,
 "nbformat_minor": 4
}
